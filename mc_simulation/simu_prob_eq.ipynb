{
 "cells": [
  {
   "cell_type": "markdown",
   "id": "ruled-spotlight",
   "metadata": {},
   "source": [
    "## Using Monte Carlo to get simulated data\n",
    "#### done in numpy first"
   ]
  },
  {
   "cell_type": "code",
   "execution_count": 1,
   "id": "personalized-decimal",
   "metadata": {},
   "outputs": [
    {
     "name": "stdout",
     "output_type": "stream",
     "text": [
      "Populating the interactive namespace from numpy and matplotlib\n"
     ]
    }
   ],
   "source": [
    "# import libraries we need\n",
    "%pylab inline\n",
    "import sys\n",
    "import os\n",
    "sys.path.append( os.path.abspath(\"swig\") )\n"
   ]
  },
  {
   "cell_type": "code",
   "execution_count": 2,
   "id": "third-peeing",
   "metadata": {},
   "outputs": [
    {
     "data": {
      "text/plain": [
       "'\\ndt -> time bin size in ns\\ntmax -> max time delay in ns\\nNbin -> number of bins\\nR -> co-detection rate per bin\\nNco -> total detections\\nn -> number of count\\n'"
      ]
     },
     "execution_count": 2,
     "metadata": {},
     "output_type": "execute_result"
    }
   ],
   "source": [
    "# set parameters\n",
    "dt = 2.34e-9\n",
    "tmax = 400e-9\n",
    "Nbin = 215\n",
    "R = 1/(20*Nbin)\n",
    "Nco = 1/R*100\n",
    "n = 0\n",
    "\n",
    "'''\n",
    "dt -> time bin size in ns\n",
    "tmax -> max time delay in ns\n",
    "Nbin -> number of bins\n",
    "R -> co-detection rate per bin\n",
    "Nco -> total detections\n",
    "n -> number of count\n",
    "'''"
   ]
  },
  {
   "cell_type": "code",
   "execution_count": 3,
   "id": "australian-specific",
   "metadata": {},
   "outputs": [
    {
     "data": {
      "text/plain": [
       "5.031e-07"
      ]
     },
     "execution_count": 3,
     "metadata": {},
     "output_type": "execute_result"
    }
   ],
   "source": [
    "Nbin*dt"
   ]
  },
  {
   "cell_type": "code",
   "execution_count": 4,
   "id": "funny-pattern",
   "metadata": {},
   "outputs": [],
   "source": [
    "# build up the probability function\n",
    "egR = 20e6\n",
    "geR = 20e6\n",
    "emR = 10e6\n",
    "mgR = 7e6\n",
    "lambda1 = egR + geR\n",
    "lambda2 = mgR + (emR*geR/lambda1)\n",
    "a = lambda2/mgR - 1\n",
    "g2_0 = 0.0 # we assume\n",
    "r_bg = 1 - np.sqrt(1-g2_0)\n",
    "n0 = -0.5\n",
    "\n",
    "def P(n):\n",
    "    '''\n",
    "    input time bins, output the probability of the 2nd photon arrival\n",
    "    '''\n",
    "    #if n.any()<0.1:\n",
    "    #P = R*r_bg + R * (1-r_bg) * (1 - (1+a)*np.exp((-0.25)*dt*lambda1) + a*np.exp((-0.25)*dt*lambda2) )\n",
    "    #else:\n",
    "    P = R*r_bg + R * (1-r_bg) * \\\n",
    "        (1 - (1+a)*np.exp((-1)*abs(n-n0+0.5)*dt*lambda1) + a*np.exp((-1)*abs(n-n0+0.5)*dt*lambda2) )\n",
    "    return P"
   ]
  },
  {
   "cell_type": "code",
   "execution_count": 5,
   "id": "wireless-straight",
   "metadata": {},
   "outputs": [],
   "source": [
    "# setup events\n",
    "p1 = n\n",
    "p2 = []\n",
    "binlist = []\n",
    "p=P(np.arange(-100,Nbin-100))\n",
    "p /= np.sum(p) \n",
    "\n",
    "for i in np.arange(Nbin):\n",
    "    binlist.append(i)\n",
    "\n",
    "for i in np.arange(Nco):\n",
    "    p2det = np.random.choice(np.arange(Nbin),p=p)\n",
    "    p2.append(p2det)\n",
    "p2 = np.stack(p2)"
   ]
  },
  {
   "cell_type": "code",
   "execution_count": 6,
   "id": "rising-adaptation",
   "metadata": {},
   "outputs": [
    {
     "data": {
      "image/png": "[encoded data removed]",
      "text/plain": [
       "<Figure size 432x288 with 1 Axes>"
      ]
     },
     "metadata": {
      "needs_background": "light"
     },
     "output_type": "display_data"
    }
   ],
   "source": [
    "arr1=plt.hist(p2,bins=Nbin)\n",
    "y = arr1[0]/np.average(arr1[0][-50:])"
   ]
  },
  {
   "cell_type": "code",
   "execution_count": 7,
   "id": "fantastic-empire",
   "metadata": {},
   "outputs": [
    {
     "data": {
      "text/plain": [
       "[<matplotlib.lines.Line2D at 0x7f5ca6870e80>]"
      ]
     },
     "execution_count": 7,
     "metadata": {},
     "output_type": "execute_result"
    },
    {
     "data": {
      "image/png": "[encoded data removed]",
      "text/plain": [
       "<Figure size 432x288 with 1 Axes>"
      ]
     },
     "metadata": {
      "needs_background": "light"
     },
     "output_type": "display_data"
    }
   ],
   "source": [
    "plt.plot(y)"
   ]
  },
  {
   "cell_type": "code",
   "execution_count": null,
   "id": "simplified-overall",
   "metadata": {},
   "outputs": [],
   "source": [
    "# \n",
    "nbin = np.arange(Nbin)\n",
    "photon1 = 0    # 1st photon arrives at 0th bin\n",
    "photon2 = "
   ]
  },
  {
   "cell_type": "code",
   "execution_count": null,
   "id": "magnetic-fossil",
   "metadata": {},
   "outputs": [],
   "source": []
  }
 ],
 "metadata": {
  "kernelspec": {
   "display_name": "Python 3",
   "language": "python",
   "name": "python3"
  },
  "language_info": {
   "codemirror_mode": {
    "name": "ipython",
    "version": 3
   },
   "file_extension": ".py",
   "mimetype": "text/x-python",
   "name": "python",
   "nbconvert_exporter": "python",
   "pygments_lexer": "ipython3",
   "version": "3.8.5"
  }
 },
 "nbformat": 4,
 "nbformat_minor": 5
}
