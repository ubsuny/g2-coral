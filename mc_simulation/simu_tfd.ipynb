{
 "cells": [
  {
   "cell_type": "raw",
   "id": "fiscal-platform",
   "metadata": {},
   "source": [
    "# import libraries we need\n",
    "%pylab inline\n",
    "import tensorflow as tf\n",
    "import tensorflow_probability as tfp"
   ]
  },
  {
   "cell_type": "markdown",
   "id": "handmade-rebate",
   "metadata": {},
   "source": [
    "*This is for simulating correlation data using Monte Carlo.*"
   ]
  },
  {
   "cell_type": "markdown",
   "id": "major-christopher",
   "metadata": {},
   "source": [
    "First, we make random choice to decide which light source is used."
   ]
  },
  {
   "cell_type": "code",
   "execution_count": 198,
   "id": "opposed-potter",
   "metadata": {},
   "outputs": [
    {
     "data": {
      "text/plain": [
       "'\\nsingle photon source -> event 0\\nthermal source -> event 1\\nnothing detected -> event 2\\n'"
      ]
     },
     "execution_count": 198,
     "metadata": {},
     "output_type": "execute_result"
    },
    {
     "data": {
      "image/png": "[encoded data removed]",
      "text/plain": [
       "<Figure size 432x288 with 1 Axes>"
      ]
     },
     "metadata": {
      "needs_background": "light"
     },
     "output_type": "display_data"
    }
   ],
   "source": [
    "# determine which the light source for each detection\n",
    "\n",
    "Ndetection = 50    # number of detections\n",
    "psps = 0.70         #  probability of detecting a single photon source\n",
    "pthermal = 0.2      # probability of detecting a thermal light source\n",
    "pnon = 0.1          # probability of getting nothing / 2nd photon is not in the range of abs time range\n",
    "source = tf.random.categorical(tf.math.log([[psps,pthermal,pnon]]), Ndetection)\n",
    "plt.scatter(np.arange(Ndetection),source[0])\n",
    "plt.ylabel('# events',fontsize=15)\n",
    "plt.yticks([0,1,2],['single photon','thermal','nothing'])\n",
    "'''\n",
    "single photon source -> event 0\n",
    "thermal source -> event 1\n",
    "nothing detected -> event 2\n",
    "'''\n"
   ]
  },
  {
   "cell_type": "code",
   "execution_count": 113,
   "id": "south-dependence",
   "metadata": {},
   "outputs": [
    {
     "data": {
      "text/plain": [
       "<tf.Tensor: shape=(1, 3), dtype=float32, numpy=array([[1.609438, 0.      , 0.      ]], dtype=float32)>"
      ]
     },
     "execution_count": 113,
     "metadata": {},
     "output_type": "execute_result"
    }
   ],
   "source": [
    "a = tf.math.log([[5.,1,1]])\n",
    "a"
   ]
  },
  {
   "cell_type": "code",
   "execution_count": 176,
   "id": "chemical-webcam",
   "metadata": {},
   "outputs": [
    {
     "data": {
      "text/plain": [
       "<matplotlib.collections.PathCollection at 0x7fa8fd03ffa0>"
      ]
     },
     "execution_count": 176,
     "metadata": {},
     "output_type": "execute_result"
    },
    {
     "data": {
      "image/png": "[encoded data removed]",
      "text/plain": [
       "<Figure size 432x288 with 1 Axes>"
      ]
     },
     "metadata": {
      "needs_background": "light"
     },
     "output_type": "display_data"
    }
   ],
   "source": [
    "# samples has shape [1, 5], where each value is either 0 or 1 with equal\n",
    "# probability.\n",
    "samples = tf.random.categorical([[pthermal,psps,pnon]], 50)\n",
    "plt.scatter(np.arange(50),samples[0])"
   ]
  },
  {
   "cell_type": "code",
   "execution_count": 129,
   "id": "august-subdivision",
   "metadata": {},
   "outputs": [
    {
     "data": {
      "text/plain": [
       "array([[0, 0, 0, 1, 1, 1, 1, 0, 1, 1, 1, 0, 1, 1, 1, 0, 0, 1, 0, 0, 0, 0,\n",
       "        1, 1, 1, 1, 1, 1, 0, 0, 0, 1, 0, 1, 0, 1, 1, 1, 1, 1, 0, 1, 1, 0,\n",
       "        0, 1, 1, 1, 1, 0]])"
      ]
     },
     "execution_count": 129,
     "metadata": {},
     "output_type": "execute_result"
    }
   ],
   "source": [
    "samples.numpy()"
   ]
  },
  {
   "cell_type": "code",
   "execution_count": null,
   "id": "intimate-patio",
   "metadata": {},
   "outputs": [],
   "source": []
  }
 ],
 "metadata": {
  "kernelspec": {
   "display_name": "Python 3",
   "language": "python",
   "name": "python3"
  },
  "language_info": {
   "codemirror_mode": {
    "name": "ipython",
    "version": 3
   },
   "file_extension": ".py",
   "mimetype": "text/x-python",
   "name": "python",
   "nbconvert_exporter": "python",
   "pygments_lexer": "ipython3",
   "version": "3.8.5"
  }
 },
 "nbformat": 4,
 "nbformat_minor": 5
}
