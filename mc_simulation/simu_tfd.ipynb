{
 "cells": [
  {
   "cell_type": "code",
   "execution_count": 1,
   "id": "physical-underground",
   "metadata": {},
   "outputs": [
    {
     "name": "stdout",
     "output_type": "stream",
     "text": [
      "Populating the interactive namespace from numpy and matplotlib\n"
     ]
    }
   ],
   "source": [
    "# import libraries we need\n",
    "%pylab inline\n",
    "import tensorflow as tf\n",
    "import tensorflow_probability as tfp\n",
    "tfd = tfp.distributions"
   ]
  },
  {
   "cell_type": "markdown",
   "id": "material-entity",
   "metadata": {},
   "source": [
    "*This is for simulating correlation data using Monte Carlo.*"
   ]
  },
  {
   "cell_type": "markdown",
   "id": "choice-trigger",
   "metadata": {},
   "source": [
    "First, we make random choice to decide which light source is used."
   ]
  },
  {
   "cell_type": "code",
   "execution_count": 46,
   "id": "color-example",
   "metadata": {},
   "outputs": [
    {
     "data": {
      "text/plain": [
       "'\\nsingle photon source -> event 0\\nthermal source -> event 1\\nnothing detected -> event 2\\n'"
      ]
     },
     "execution_count": 46,
     "metadata": {},
     "output_type": "execute_result"
    },
    {
     "data": {
      "image/png": "[encoded data removed]",
      "text/plain": [
       "<Figure size 432x288 with 1 Axes>"
      ]
     },
     "metadata": {
      "needs_background": "light"
     },
     "output_type": "display_data"
    }
   ],
   "source": [
    "# determine which the light source for each detection\n",
    "\n",
    "Ndetection = 50    # number of detections\n",
    "p_sps = 0.70         #  probability of detecting a single photon source\n",
    "p_thermal = 0.0      # probability of detecting a thermal light source\n",
    "p_non = 0.30          # probability of getting nothing / 2nd photon is not in the range of abs time range\n",
    "source = tf.random.categorical(tf.math.log([[p_sps,p_thermal,p_non]]), Ndetection)\n",
    "plt.scatter(np.arange(Ndetection),source[0])\n",
    "plt.ylabel('# events',fontsize=15)\n",
    "plt.yticks([0,1,2],['single photon','thermal','nothing'])\n",
    "'''\n",
    "single photon source -> event 0\n",
    "thermal source -> event 1\n",
    "nothing detected -> event 2\n",
    "'''\n"
   ]
  },
  {
   "cell_type": "markdown",
   "id": "tight-skiing",
   "metadata": {},
   "source": [
    "---"
   ]
  },
  {
   "cell_type": "markdown",
   "id": "selective-democrat",
   "metadata": {},
   "source": [
    "Next, we simulate the single photon source case."
   ]
  },
  {
   "cell_type": "code",
   "execution_count": 231,
   "id": "magnetic-semiconductor",
   "metadata": {},
   "outputs": [
    {
     "data": {
      "text/plain": [
       "<tf.Tensor: shape=(401,), dtype=float32, numpy=\n",
       "array([0.0025, 0.0025, 0.0025, 0.0025, 0.0025, 0.0025, 0.0025, 0.0025,\n",
       "       0.0025, 0.0025, 0.0025, 0.0025, 0.0025, 0.0025, 0.0025, 0.0025,\n",
       "       0.0025, 0.0025, 0.0025, 0.0025, 0.0025, 0.0025, 0.0025, 0.0025,\n",
       "       0.0025, 0.0025, 0.0025, 0.0025, 0.0025, 0.0025, 0.0025, 0.0025,\n",
       "       0.0025, 0.0025, 0.0025, 0.0025, 0.0025, 0.0025, 0.0025, 0.0025,\n",
       "       0.0025, 0.0025, 0.0025, 0.0025, 0.0025, 0.0025, 0.0025, 0.0025,\n",
       "       0.0025, 0.0025, 0.0025, 0.0025, 0.0025, 0.0025, 0.0025, 0.0025,\n",
       "       0.0025, 0.0025, 0.0025, 0.0025, 0.0025, 0.0025, 0.0025, 0.0025,\n",
       "       0.0025, 0.0025, 0.0025, 0.0025, 0.0025, 0.0025, 0.0025, 0.0025,\n",
       "       0.0025, 0.0025, 0.0025, 0.0025, 0.0025, 0.0025, 0.0025, 0.0025,\n",
       "       0.0025, 0.0025, 0.0025, 0.0025, 0.0025, 0.0025, 0.0025, 0.0025,\n",
       "       0.0025, 0.0025, 0.0025, 0.0025, 0.0025, 0.0025, 0.0025, 0.0025,\n",
       "       0.0025, 0.0025, 0.0025, 0.0025, 0.0025, 0.0025, 0.0025, 0.0025,\n",
       "       0.0025, 0.0025, 0.0025, 0.0025, 0.0025, 0.0025, 0.0025, 0.0025,\n",
       "       0.0025, 0.0025, 0.0025, 0.0025, 0.0025, 0.0025, 0.0025, 0.0025,\n",
       "       0.0025, 0.0025, 0.0025, 0.0025, 0.0025, 0.0025, 0.0025, 0.0025,\n",
       "       0.0025, 0.0025, 0.0025, 0.0025, 0.0025, 0.0025, 0.0025, 0.0025,\n",
       "       0.0025, 0.0025, 0.0025, 0.0025, 0.0025, 0.0025, 0.0025, 0.0025,\n",
       "       0.0025, 0.0025, 0.0025, 0.0025, 0.0025, 0.0025, 0.0025, 0.0025,\n",
       "       0.0025, 0.0025, 0.0025, 0.0025, 0.0025, 0.0025, 0.0025, 0.0025,\n",
       "       0.0025, 0.0025, 0.0025, 0.0025, 0.0025, 0.0025, 0.0025, 0.0025,\n",
       "       0.0025, 0.0025, 0.0025, 0.0025, 0.0025, 0.0025, 0.0025, 0.0025,\n",
       "       0.0025, 0.0025, 0.0025, 0.0025, 0.0025, 0.0025, 0.0025, 0.0025,\n",
       "       0.0025, 0.0025, 0.0025, 0.0025, 0.0025, 0.0025, 0.0025, 0.0025,\n",
       "       0.0025, 0.0025, 0.0025, 0.0025, 0.0025, 0.0025, 0.0025, 0.0025,\n",
       "       0.    , 0.0025, 0.0025, 0.0025, 0.0025, 0.0025, 0.0025, 0.0025,\n",
       "       0.0025, 0.0025, 0.0025, 0.0025, 0.0025, 0.0025, 0.0025, 0.0025,\n",
       "       0.0025, 0.0025, 0.0025, 0.0025, 0.0025, 0.0025, 0.0025, 0.0025,\n",
       "       0.0025, 0.0025, 0.0025, 0.0025, 0.0025, 0.0025, 0.0025, 0.0025,\n",
       "       0.0025, 0.0025, 0.0025, 0.0025, 0.0025, 0.0025, 0.0025, 0.0025,\n",
       "       0.0025, 0.0025, 0.0025, 0.0025, 0.0025, 0.0025, 0.0025, 0.0025,\n",
       "       0.0025, 0.0025, 0.0025, 0.0025, 0.0025, 0.0025, 0.0025, 0.0025,\n",
       "       0.0025, 0.0025, 0.0025, 0.0025, 0.0025, 0.0025, 0.0025, 0.0025,\n",
       "       0.0025, 0.0025, 0.0025, 0.0025, 0.0025, 0.0025, 0.0025, 0.0025,\n",
       "       0.0025, 0.0025, 0.0025, 0.0025, 0.0025, 0.0025, 0.0025, 0.0025,\n",
       "       0.0025, 0.0025, 0.0025, 0.0025, 0.0025, 0.0025, 0.0025, 0.0025,\n",
       "       0.0025, 0.0025, 0.0025, 0.0025, 0.0025, 0.0025, 0.0025, 0.0025,\n",
       "       0.0025, 0.0025, 0.0025, 0.0025, 0.0025, 0.0025, 0.0025, 0.0025,\n",
       "       0.0025, 0.0025, 0.0025, 0.0025, 0.0025, 0.0025, 0.0025, 0.0025,\n",
       "       0.0025, 0.0025, 0.0025, 0.0025, 0.0025, 0.0025, 0.0025, 0.0025,\n",
       "       0.0025, 0.0025, 0.0025, 0.0025, 0.0025, 0.0025, 0.0025, 0.0025,\n",
       "       0.0025, 0.0025, 0.0025, 0.0025, 0.0025, 0.0025, 0.0025, 0.0025,\n",
       "       0.0025, 0.0025, 0.0025, 0.0025, 0.0025, 0.0025, 0.0025, 0.0025,\n",
       "       0.0025, 0.0025, 0.0025, 0.0025, 0.0025, 0.0025, 0.0025, 0.0025,\n",
       "       0.0025, 0.0025, 0.0025, 0.0025, 0.0025, 0.0025, 0.0025, 0.0025,\n",
       "       0.0025, 0.0025, 0.0025, 0.0025, 0.0025, 0.0025, 0.0025, 0.0025,\n",
       "       0.0025, 0.0025, 0.0025, 0.0025, 0.0025, 0.0025, 0.0025, 0.0025,\n",
       "       0.0025, 0.0025, 0.0025, 0.0025, 0.0025, 0.0025, 0.0025, 0.0025,\n",
       "       0.0025, 0.0025, 0.0025, 0.0025, 0.0025, 0.0025, 0.0025, 0.0025,\n",
       "       0.0025, 0.0025, 0.0025, 0.0025, 0.0025, 0.0025, 0.0025, 0.0025,\n",
       "       0.0025], dtype=float32)>"
      ]
     },
     "execution_count": 231,
     "metadata": {},
     "output_type": "execute_result"
    }
   ],
   "source": [
    "uni_prob"
   ]
  },
  {
   "cell_type": "code",
   "execution_count": 230,
   "id": "automatic-farmer",
   "metadata": {},
   "outputs": [
    {
     "data": {
      "image/png": "[encoded data removed]",
      "text/plain": [
       "<Figure size 432x288 with 1 Axes>"
      ]
     },
     "metadata": {
      "needs_background": "light"
     },
     "output_type": "display_data"
    }
   ],
   "source": [
    "total_bin = 400      # number of total time bins\n",
    "bin_number = tf.range(-1 * total_bin//2,total_bin//2+1,delta=1,dtype=float32)\n",
    "\n",
    "tbin_n = tf.constant(np.linspace(min(bin_number),-1,total_bin//2),dtype=float32)\n",
    "tbin_p = tf.constant(np.linspace(1,max(bin_number),total_bin//2),dtype=float32)\n",
    "\n",
    "uni_dist = tfd.MixtureSameFamily(\n",
    "    mixture_distribution = tfd.Categorical(probs=[0.5, 0.5]),\n",
    "    components_distribution = tfd.Uniform(low=[min(bin_number),1],high=[0,max(bin_number)+1])\n",
    "                       )\n",
    "uni_prob = uni_dist.prob([tbin_n,tbin_p])\n",
    "uni_prob = tf.concat([uni_prob[0],[0],uni_prob[1]],0)\n",
    "plt.plot(bin_number,uni_prob)\n",
    "plt.show()"
   ]
  },
  {
   "cell_type": "code",
   "execution_count": 162,
   "id": "resident-fraud",
   "metadata": {},
   "outputs": [
    {
     "data": {
      "text/plain": [
       "<tf.Tensor: shape=(2,), dtype=float32, numpy=array([0.005, 0.005], dtype=float32)>"
      ]
     },
     "execution_count": 162,
     "metadata": {},
     "output_type": "execute_result"
    }
   ],
   "source": [
    "\n",
    "d2=tfd.Uniform(low=1,high=100)\n",
    "x1=np.linspace(-100,-1,100)\n",
    "d=tfd.MixtureSameFamily(\n",
    "    mixture_distribution = tfd.Categorical(probs=[0.5, 0.5]),\n",
    "    components_distribution = tfd.Uniform(low=[-101,1],high=[-1,101])\n",
    "                       )\n",
    "d.prob([3,4])"
   ]
  },
  {
   "cell_type": "code",
   "execution_count": 155,
   "id": "protective-criticism",
   "metadata": {},
   "outputs": [],
   "source": [
    "x1=np.linspace(-100,-1,100)\n",
    "x2=np.linspace(1,100,100)"
   ]
  },
  {
   "cell_type": "code",
   "execution_count": 156,
   "id": "consecutive-davis",
   "metadata": {},
   "outputs": [
    {
     "data": {
      "text/plain": [
       "<tf.Tensor: shape=(), dtype=float32, numpy=0.005>"
      ]
     },
     "execution_count": 156,
     "metadata": {},
     "output_type": "execute_result"
    }
   ],
   "source": [
    "d.prob(5)"
   ]
  },
  {
   "cell_type": "code",
   "execution_count": 32,
   "id": "charming-korean",
   "metadata": {},
   "outputs": [
    {
     "data": {
      "text/plain": [
       "[<matplotlib.lines.Line2D at 0x7f62c588e790>]"
      ]
     },
     "execution_count": 32,
     "metadata": {},
     "output_type": "execute_result"
    },
    {
     "data": {
      "image/png": "[encoded data removed]",
      "text/plain": [
       "<Figure size 432x288 with 1 Axes>"
      ]
     },
     "metadata": {
      "needs_background": "light"
     },
     "output_type": "display_data"
    }
   ],
   "source": [
    "\n",
    "dist = tfd.Normal(loc=0.0,scale=0.01)\n",
    "                    \n",
    "x = np.linspace(-10.,10.,5000,dtype=float)\n",
    "plt.plot(x,-dist.prob(x)/dist.prob(0)+1)"
   ]
  },
  {
   "cell_type": "code",
   "execution_count": 5,
   "id": "retained-specification",
   "metadata": {},
   "outputs": [
    {
     "data": {
      "text/plain": [
       "<tf.Tensor: shape=(2,), dtype=float32, numpy=array([0.3989423, 0.3989423], dtype=float32)>"
      ]
     },
     "execution_count": 5,
     "metadata": {},
     "output_type": "execute_result"
    }
   ],
   "source": [
    "import tensorflow_probability as tfp\n",
    "tfd = tfp.distributions\n",
    "\n",
    "# Define a single scalar Normal distribution.\n",
    "dist = tfd.Normal(loc=0., scale=3.)\n",
    "\n",
    "# Evaluate the cdf at 1, returning a scalar.\n",
    "dist.cdf(1.)\n",
    "\n",
    "# Define a batch of two scalar valued Normals.\n",
    "# The first has mean 1 and standard deviation 11, the second 2 and 22.\n",
    "dist = tfd.Normal(loc=[-2, 2.], scale=[1.,1])\n",
    "\n",
    "# Evaluate the pdf of the first distribution on 0, and the second on 1.5,\n",
    "# returning a length two tensor.\n",
    "dist.prob([-2.,2])\n",
    "\n",
    "# Get 3 samples, returning a 3 x 2 tensor.\n",
    "#dist.sample([5])\n"
   ]
  },
  {
   "cell_type": "code",
   "execution_count": 176,
   "id": "impressed-confidence",
   "metadata": {},
   "outputs": [
    {
     "data": {
      "text/plain": [
       "<matplotlib.collections.PathCollection at 0x7fa8fd03ffa0>"
      ]
     },
     "execution_count": 176,
     "metadata": {},
     "output_type": "execute_result"
    },
    {
     "data": {
      "image/png": "[encoded data removed]",
      "text/plain": [
       "<Figure size 432x288 with 1 Axes>"
      ]
     },
     "metadata": {
      "needs_background": "light"
     },
     "output_type": "display_data"
    }
   ],
   "source": [
    "# samples has shape [1, 5], where each value is either 0 or 1 with equal\n",
    "# probability.\n",
    "samples = tf.random.categorical([[pthermal,psps,pnon]], 50)\n",
    "plt.scatter(np.arange(50),samples[0])"
   ]
  },
  {
   "cell_type": "code",
   "execution_count": 129,
   "id": "proved-interaction",
   "metadata": {},
   "outputs": [
    {
     "data": {
      "text/plain": [
       "array([[0, 0, 0, 1, 1, 1, 1, 0, 1, 1, 1, 0, 1, 1, 1, 0, 0, 1, 0, 0, 0, 0,\n",
       "        1, 1, 1, 1, 1, 1, 0, 0, 0, 1, 0, 1, 0, 1, 1, 1, 1, 1, 0, 1, 1, 0,\n",
       "        0, 1, 1, 1, 1, 0]])"
      ]
     },
     "execution_count": 129,
     "metadata": {},
     "output_type": "execute_result"
    }
   ],
   "source": [
    "samples.numpy()"
   ]
  },
  {
   "cell_type": "code",
   "execution_count": null,
   "id": "continuous-civilization",
   "metadata": {},
   "outputs": [],
   "source": []
  }
 ],
 "metadata": {
  "kernelspec": {
   "display_name": "Python 3",
   "language": "python",
   "name": "python3"
  },
  "language_info": {
   "codemirror_mode": {
    "name": "ipython",
    "version": 3
   },
   "file_extension": ".py",
   "mimetype": "text/x-python",
   "name": "python",
   "nbconvert_exporter": "python",
   "pygments_lexer": "ipython3",
   "version": "3.8.5"
  }
 },
 "nbformat": 4,
 "nbformat_minor": 5
}
