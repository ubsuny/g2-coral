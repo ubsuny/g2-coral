{
 "cells": [
  {
   "cell_type": "code",
   "execution_count": 1,
   "id": "perceived-preparation",
   "metadata": {},
   "outputs": [
    {
     "name": "stdout",
     "output_type": "stream",
     "text": [
      "Populating the interactive namespace from numpy and matplotlib\n"
     ]
    }
   ],
   "source": [
    "# import libraries we need\n",
    "%pylab inline\n",
    "import tensorflow as tf\n",
    "import tensorflow_probability as tfp\n",
    "tfd = tfp.distributions"
   ]
  },
  {
   "cell_type": "markdown",
   "id": "classical-trinidad",
   "metadata": {},
   "source": [
    "*This is for simulating correlation data using Monte Carlo.*"
   ]
  },
  {
   "cell_type": "markdown",
   "id": "unable-outreach",
   "metadata": {},
   "source": [
    "First, we make random choice to decide which light source is used."
   ]
  },
  {
   "cell_type": "code",
   "execution_count": 2,
   "id": "vertical-handle",
   "metadata": {},
   "outputs": [
    {
     "data": {
      "text/plain": [
       "'\\nsingle photon source -> event 0\\nthermal source -> event 1\\nnothing detected -> event 2\\n'"
      ]
     },
     "execution_count": 2,
     "metadata": {},
     "output_type": "execute_result"
    },
    {
     "data": {
      "image/png": "[encoded data removed]",
      "text/plain": [
       "<Figure size 432x288 with 1 Axes>"
      ]
     },
     "metadata": {
      "needs_background": "light"
     },
     "output_type": "display_data"
    }
   ],
   "source": [
    "# determine which the light source for each detection\n",
    "\n",
    "Ndetection = 50    # number of detections\n",
    "p_sps = 0.70         #  probability of detecting a single photon source\n",
    "p_thermal = 0.0      # probability of detecting a thermal light source\n",
    "p_non = 0.30          # probability of getting nothing / 2nd photon is not in the range of abs time range\n",
    "source = tf.random.categorical(tf.math.log([[p_sps,p_thermal,p_non]]), Ndetection)\n",
    "plt.scatter(np.arange(Ndetection),source[0])\n",
    "plt.ylabel('# events',fontsize=15)\n",
    "plt.yticks([0,1,2],['single photon','thermal','nothing'])\n",
    "'''\n",
    "single photon source -> event 0\n",
    "thermal source -> event 1\n",
    "nothing detected -> event 2\n",
    "'''\n"
   ]
  },
  {
   "cell_type": "markdown",
   "id": "inner-trading",
   "metadata": {},
   "source": [
    "---"
   ]
  },
  {
   "cell_type": "markdown",
   "id": "consistent-savings",
   "metadata": {},
   "source": [
    "Next, we simulate the single photon source case."
   ]
  },
  {
   "cell_type": "code",
   "execution_count": null,
   "id": "tamil-saskatchewan",
   "metadata": {},
   "outputs": [],
   "source": [
    "uni_prob"
   ]
  },
  {
   "cell_type": "code",
   "execution_count": 195,
   "id": "happy-chance",
   "metadata": {},
   "outputs": [
    {
     "data": {
      "image/png": "[encoded data removed]",
      "text/plain": [
       "<Figure size 576x432 with 1 Axes>"
      ]
     },
     "metadata": {
      "needs_background": "light"
     },
     "output_type": "display_data"
    }
   ],
   "source": [
    "total_bin = 400     # number of total time bins\n",
    "bin_array = tf.range(-1 * total_bin//2,total_bin//2+1,delta=1,dtype=float32)\n",
    "\n",
    "tbin_n = tf.constant(np.linspace(min(bin_array),-1,total_bin//2),dtype=float32)\n",
    "tbin_p = tf.constant(np.linspace(1,max(bin_array),total_bin//2),dtype=float32)\n",
    "\n",
    "uni_dist = tfd.MixtureSameFamily(\n",
    "    mixture_distribution = \n",
    "    tfd.Categorical(probs=[tbin_n.shape[0]/total_bin,0, tbin_p.shape[0]/total_bin]),\n",
    "    \n",
    "    components_distribution = \n",
    "    tfd.Uniform(low=[min(bin_array)-1,-1,1],high=[-1,1,max(bin_array)+1])\n",
    "                       )\n",
    "\n",
    "uni_prob = uni_dist.prob([tbin_n,tbin_p])\n",
    "uni_prob = tf.concat([uni_prob[0],[0],uni_prob[1]],0)\n",
    "plt.plot(bin_array,uni_prob)\n",
    "#plt.xlim(-2,2)\n",
    "plt.show()\n"
   ]
  },
  {
   "cell_type": "code",
   "execution_count": 226,
   "id": "brutal-flexibility",
   "metadata": {},
   "outputs": [],
   "source": [
    "counts = 10e5\n",
    "samples = tf.cast(uni_dist.sample(counts),dtype=int32)"
   ]
  },
  {
   "cell_type": "code",
   "execution_count": 227,
   "id": "cheap-explosion",
   "metadata": {},
   "outputs": [
    {
     "data": {
      "image/png": "[encoded data removed]",
      "text/plain": [
       "<Figure size 576x432 with 1 Axes>"
      ]
     },
     "metadata": {
      "needs_background": "light"
     },
     "output_type": "display_data"
    }
   ],
   "source": [
    "plt.figure(figsize(8,6))\n",
    "k=plt.hist(samples.numpy(), bins=np.ndarray.tolist(bin_array.numpy()) )\n"
   ]
  },
  {
   "cell_type": "code",
   "execution_count": null,
   "id": "figured-seven",
   "metadata": {},
   "outputs": [],
   "source": [
    "plt.plot(samples)"
   ]
  },
  {
   "cell_type": "code",
   "execution_count": 82,
   "id": "compliant-numbers",
   "metadata": {},
   "outputs": [
    {
     "name": "stderr",
     "output_type": "stream",
     "text": [
      "<ipython-input-82-b635f719bac8>:1: DeprecationWarning: This function is deprecated. Please call randint(2, 10 + 1) instead\n",
      "  x1=np.random.random_integers(low=2,high=10,size=100)\n"
     ]
    },
    {
     "data": {
      "text/plain": [
       "(array([ 7.,  6., 10., 12., 12., 11., 13., 29.]),\n",
       " array([ 2.,  3.,  4.,  5.,  6.,  7.,  8.,  9., 10.]),\n",
       " <BarContainer object of 8 artists>)"
      ]
     },
     "execution_count": 82,
     "metadata": {},
     "output_type": "execute_result"
    },
    {
     "data": {
      "image/png": "[encoded data removed]",
      "text/plain": [
       "<Figure size 576x432 with 1 Axes>"
      ]
     },
     "metadata": {
      "needs_background": "light"
     },
     "output_type": "display_data"
    }
   ],
   "source": [
    "x1=np.random.random_integers(low=2,high=10,size=100)\n",
    "plt.hist(x1,bins=8)"
   ]
  },
  {
   "cell_type": "code",
   "execution_count": 135,
   "id": "blessed-nylon",
   "metadata": {},
   "outputs": [
    {
     "data": {
      "text/plain": [
       "-200"
      ]
     },
     "execution_count": 135,
     "metadata": {},
     "output_type": "execute_result"
    }
   ],
   "source": [
    "int(-200.3)"
   ]
  },
  {
   "cell_type": "code",
   "execution_count": null,
   "id": "given-triumph",
   "metadata": {},
   "outputs": [],
   "source": [
    "import tensorflow_probability as tfp\n",
    "tfd = tfp.distributions\n",
    "\n",
    "# Define a single scalar Normal distribution.\n",
    "dist = tfd.Normal(loc=0., scale=3.)\n",
    "\n",
    "# Evaluate the cdf at 1, returning a scalar.\n",
    "dist.cdf(1.)\n",
    "\n",
    "# Define a batch of two scalar valued Normals.\n",
    "# The first has mean 1 and standard deviation 11, the second 2 and 22.\n",
    "dist = tfd.Normal(loc=[-2, 2.], scale=[1.,1])\n",
    "\n",
    "# Evaluate the pdf of the first distribution on 0, and the second on 1.5,\n",
    "# returning a length two tensor.\n",
    "dist.prob([-2.,2])\n",
    "\n",
    "# Get 3 samples, returning a 3 x 2 tensor.\n",
    "#dist.sample([5])\n"
   ]
  },
  {
   "cell_type": "code",
   "execution_count": null,
   "id": "clean-memorabilia",
   "metadata": {},
   "outputs": [],
   "source": [
    "# samples has shape [1, 5], where each value is either 0 or 1 with equal\n",
    "# probability.\n",
    "samples = tf.random.categorical([[pthermal,psps,pnon]], 50)\n",
    "plt.scatter(np.arange(50),samples[0])"
   ]
  },
  {
   "cell_type": "code",
   "execution_count": null,
   "id": "traditional-spotlight",
   "metadata": {},
   "outputs": [],
   "source": [
    "samples.numpy()"
   ]
  },
  {
   "cell_type": "code",
   "execution_count": null,
   "id": "offensive-flight",
   "metadata": {},
   "outputs": [],
   "source": []
  }
 ],
 "metadata": {
  "kernelspec": {
   "display_name": "Python 3",
   "language": "python",
   "name": "python3"
  },
  "language_info": {
   "codemirror_mode": {
    "name": "ipython",
    "version": 3
   },
   "file_extension": ".py",
   "mimetype": "text/x-python",
   "name": "python",
   "nbconvert_exporter": "python",
   "pygments_lexer": "ipython3",
   "version": "3.8.5"
  }
 },
 "nbformat": 4,
 "nbformat_minor": 5
}
