{
 "cells": [
  {
   "cell_type": "code",
   "execution_count": 12,
   "id": "impressive-brazil",
   "metadata": {},
   "outputs": [
    {
     "name": "stdout",
     "output_type": "stream",
     "text": [
      "Populating the interactive namespace from numpy and matplotlib\n"
     ]
    }
   ],
   "source": [
    "# import libraries we need\n",
    "%pylab inline\n",
    "import tensorflow as tf\n",
    "from tensorflow import keras\n",
    "import tensorflow_probability as tfp\n",
    "tfd = tfp.distributions\n",
    "\n",
    "import sys\n",
    "sys.path.append('./../py_programs/')\n",
    "from Simulator import *\n",
    "from MakeModel import *\n",
    "from keract import get_activations"
   ]
  },
  {
   "cell_type": "markdown",
   "id": "amber-tradition",
   "metadata": {},
   "source": [
    "### load data from files"
   ]
  },
  {
   "cell_type": "code",
   "execution_count": 52,
   "id": "cognitive-water",
   "metadata": {},
   "outputs": [],
   "source": [
    "# load the data from files\n",
    "filenames = []\n",
    "x_ = []\n",
    "y_ = []\n",
    "\n",
    "# iterate over all files\n",
    "#filenames = ['./../simulation/data/laser'] + ['./../simulation/data/sps']\n",
    "filenames = ['./../simulation/data/halfhalf_rand/'+str(i) for i in range(50)]\n",
    "\n",
    "\n",
    "for filename in filenames: \n",
    "    data = load_data(filename=filename)\n",
    "    x_.append(data)\n",
    "    \n",
    "x_ = np.array(x_)"
   ]
  },
  {
   "cell_type": "code",
   "execution_count": 53,
   "id": "acting-amateur",
   "metadata": {},
   "outputs": [],
   "source": [
    "# convert data into correct shape\n",
    "x_ = x_.reshape(x_.shape[0]*x_.shape[1],x_.shape[2],x_.shape[3])\n",
    "\n",
    "# get the ground truth\n",
    "threshold = 0.5\n",
    "y_ = get_truth(x_, thr=threshold)\n",
    "\n",
    "# we only need the g2signal for training\n",
    "x_ = x_[:,2,:]"
   ]
  },
  {
   "cell_type": "markdown",
   "id": "broken-buying",
   "metadata": {},
   "source": [
    "Now we've collected all the datasets. For training the model, we need to **shuffle** all data sets first\n"
   ]
  },
  {
   "cell_type": "code",
   "execution_count": 54,
   "id": "relevant-french",
   "metadata": {},
   "outputs": [],
   "source": [
    "# shuffle\n",
    "i = np.random.permutation(len(x_))\n",
    "x_ = x_[i]\n",
    "y_ = y_[i]\n",
    "\n",
    "# reshape\n",
    "x_ = x_.reshape(x_.shape[0], x_.shape[1], 1)\n",
    "y_ = y_.reshape(y_.shape[0])\n",
    "\n",
    "# allocate\n",
    "x_train = x_[100:]\n",
    "y_train = y_[100:]\n",
    "x_test = x_[:100]\n",
    "y_test = y_[:100]"
   ]
  },
  {
   "cell_type": "code",
   "execution_count": 55,
   "id": "ready-incidence",
   "metadata": {},
   "outputs": [
    {
     "data": {
      "text/plain": [
       "0.585"
      ]
     },
     "execution_count": 55,
     "metadata": {},
     "output_type": "execute_result"
    }
   ],
   "source": [
    "# check the sps rate (data sets considered as sps out of all data sets) \n",
    "y_[y_==1].shape[0]/y_.shape[0]"
   ]
  },
  {
   "cell_type": "markdown",
   "id": "remarkable-handle",
   "metadata": {},
   "source": [
    "---\n",
    "# CNN model"
   ]
  },
  {
   "cell_type": "code",
   "execution_count": 73,
   "id": "fifteen-eagle",
   "metadata": {},
   "outputs": [],
   "source": [
    "# create a model\n",
    "model = make_model(x_train.shape[1:])\n"
   ]
  },
  {
   "cell_type": "code",
   "execution_count": 57,
   "id": "young-thompson",
   "metadata": {},
   "outputs": [
    {
     "data": {
      "text/plain": [
       "<bound method Model.compile of <tensorflow.python.keras.engine.functional.Functional object at 0x7fd76c550850>>"
      ]
     },
     "execution_count": 57,
     "metadata": {},
     "output_type": "execute_result"
    }
   ],
   "source": [
    "epochs = 30\n",
    "batch_size = 5\n",
    "\n",
    "callbacks = set_callback(save=True,name='model_3')\n",
    "model_compile(model)"
   ]
  },
  {
   "cell_type": "code",
   "execution_count": 58,
   "id": "alien-accordance",
   "metadata": {},
   "outputs": [
    {
     "name": "stdout",
     "output_type": "stream",
     "text": [
      "Epoch 1/30\n",
      "686/686 [==============================] - 1s 678us/step - loss: 0.1596 - sparse_categorical_accuracy: 0.4082 - binary_accuracy: 0.7478 - val_loss: 0.0351 - val_sparse_categorical_accuracy: 0.4279 - val_binary_accuracy: 0.9776\n",
      "Epoch 2/30\n",
      "686/686 [==============================] - 0s 556us/step - loss: 0.0325 - sparse_categorical_accuracy: 0.4156 - binary_accuracy: 0.9736 - val_loss: 0.0189 - val_sparse_categorical_accuracy: 0.4279 - val_binary_accuracy: 0.9844\n",
      "Epoch 3/30\n",
      "686/686 [==============================] - 0s 530us/step - loss: 0.0190 - sparse_categorical_accuracy: 0.4023 - binary_accuracy: 0.9845 - val_loss: 0.0124 - val_sparse_categorical_accuracy: 0.4279 - val_binary_accuracy: 0.9905\n",
      "Epoch 4/30\n",
      "686/686 [==============================] - 0s 555us/step - loss: 0.0133 - sparse_categorical_accuracy: 0.4242 - binary_accuracy: 0.9883 - val_loss: 0.0093 - val_sparse_categorical_accuracy: 0.4279 - val_binary_accuracy: 0.9932\n",
      "Epoch 5/30\n",
      "686/686 [==============================] - 0s 541us/step - loss: 0.0126 - sparse_categorical_accuracy: 0.4171 - binary_accuracy: 0.9864 - val_loss: 0.0077 - val_sparse_categorical_accuracy: 0.4279 - val_binary_accuracy: 0.9959\n",
      "Epoch 6/30\n",
      "686/686 [==============================] - 0s 540us/step - loss: 0.0107 - sparse_categorical_accuracy: 0.4200 - binary_accuracy: 0.9903 - val_loss: 0.0074 - val_sparse_categorical_accuracy: 0.4279 - val_binary_accuracy: 0.9905\n",
      "Epoch 7/30\n",
      "686/686 [==============================] - 0s 560us/step - loss: 0.0103 - sparse_categorical_accuracy: 0.3993 - binary_accuracy: 0.9879 - val_loss: 0.0062 - val_sparse_categorical_accuracy: 0.4279 - val_binary_accuracy: 0.9932\n",
      "Epoch 8/30\n",
      "686/686 [==============================] - 0s 536us/step - loss: 0.0094 - sparse_categorical_accuracy: 0.4087 - binary_accuracy: 0.9869 - val_loss: 0.0063 - val_sparse_categorical_accuracy: 0.4279 - val_binary_accuracy: 0.9946\n",
      "Epoch 9/30\n",
      "686/686 [==============================] - 0s 551us/step - loss: 0.0092 - sparse_categorical_accuracy: 0.4295 - binary_accuracy: 0.9906 - val_loss: 0.0057 - val_sparse_categorical_accuracy: 0.4279 - val_binary_accuracy: 0.9932\n",
      "Epoch 10/30\n",
      "686/686 [==============================] - 0s 554us/step - loss: 0.0084 - sparse_categorical_accuracy: 0.4071 - binary_accuracy: 0.9886 - val_loss: 0.0076 - val_sparse_categorical_accuracy: 0.4279 - val_binary_accuracy: 0.9878\n",
      "Epoch 11/30\n",
      "686/686 [==============================] - 0s 566us/step - loss: 0.0067 - sparse_categorical_accuracy: 0.4038 - binary_accuracy: 0.9915 - val_loss: 0.0043 - val_sparse_categorical_accuracy: 0.4279 - val_binary_accuracy: 0.9966\n",
      "Epoch 12/30\n",
      "686/686 [==============================] - 0s 550us/step - loss: 0.0074 - sparse_categorical_accuracy: 0.4067 - binary_accuracy: 0.9906 - val_loss: 0.0044 - val_sparse_categorical_accuracy: 0.4279 - val_binary_accuracy: 0.9973\n",
      "Epoch 13/30\n",
      "686/686 [==============================] - 0s 541us/step - loss: 0.0061 - sparse_categorical_accuracy: 0.4031 - binary_accuracy: 0.9928 - val_loss: 0.0048 - val_sparse_categorical_accuracy: 0.4279 - val_binary_accuracy: 0.9932\n",
      "Epoch 14/30\n",
      "686/686 [==============================] - 0s 539us/step - loss: 0.0064 - sparse_categorical_accuracy: 0.4030 - binary_accuracy: 0.9932 - val_loss: 0.0054 - val_sparse_categorical_accuracy: 0.4279 - val_binary_accuracy: 0.9918\n",
      "Epoch 15/30\n",
      "686/686 [==============================] - 0s 541us/step - loss: 0.0072 - sparse_categorical_accuracy: 0.4142 - binary_accuracy: 0.9919 - val_loss: 0.0061 - val_sparse_categorical_accuracy: 0.4279 - val_binary_accuracy: 0.9905\n",
      "Epoch 16/30\n",
      "686/686 [==============================] - 0s 546us/step - loss: 0.0061 - sparse_categorical_accuracy: 0.4160 - binary_accuracy: 0.9924 - val_loss: 0.0043 - val_sparse_categorical_accuracy: 0.4279 - val_binary_accuracy: 0.9966\n",
      "Epoch 17/30\n",
      "686/686 [==============================] - 0s 550us/step - loss: 0.0058 - sparse_categorical_accuracy: 0.4048 - binary_accuracy: 0.9912 - val_loss: 0.0034 - val_sparse_categorical_accuracy: 0.4279 - val_binary_accuracy: 0.9966\n",
      "Epoch 18/30\n",
      "686/686 [==============================] - 0s 555us/step - loss: 0.0056 - sparse_categorical_accuracy: 0.3982 - binary_accuracy: 0.9929 - val_loss: 0.0039 - val_sparse_categorical_accuracy: 0.4279 - val_binary_accuracy: 0.9973\n",
      "Epoch 19/30\n",
      "686/686 [==============================] - 0s 540us/step - loss: 0.0064 - sparse_categorical_accuracy: 0.4210 - binary_accuracy: 0.9899 - val_loss: 0.0034 - val_sparse_categorical_accuracy: 0.4279 - val_binary_accuracy: 0.9966\n",
      "Epoch 20/30\n",
      "686/686 [==============================] - 0s 554us/step - loss: 0.0078 - sparse_categorical_accuracy: 0.4179 - binary_accuracy: 0.9865 - val_loss: 0.0033 - val_sparse_categorical_accuracy: 0.4279 - val_binary_accuracy: 0.9973\n",
      "Epoch 21/30\n",
      "686/686 [==============================] - 0s 554us/step - loss: 0.0063 - sparse_categorical_accuracy: 0.4199 - binary_accuracy: 0.9922 - val_loss: 0.0034 - val_sparse_categorical_accuracy: 0.4279 - val_binary_accuracy: 0.9966\n",
      "Epoch 22/30\n",
      "686/686 [==============================] - 0s 545us/step - loss: 0.0057 - sparse_categorical_accuracy: 0.4016 - binary_accuracy: 0.9929 - val_loss: 0.0033 - val_sparse_categorical_accuracy: 0.4279 - val_binary_accuracy: 0.9973\n",
      "Epoch 23/30\n",
      "686/686 [==============================] - 0s 545us/step - loss: 0.0060 - sparse_categorical_accuracy: 0.4094 - binary_accuracy: 0.9937 - val_loss: 0.0038 - val_sparse_categorical_accuracy: 0.4279 - val_binary_accuracy: 0.9946\n",
      "Epoch 24/30\n",
      "686/686 [==============================] - 0s 542us/step - loss: 0.0071 - sparse_categorical_accuracy: 0.4183 - binary_accuracy: 0.9875 - val_loss: 0.0046 - val_sparse_categorical_accuracy: 0.4279 - val_binary_accuracy: 0.9939\n",
      "Epoch 25/30\n",
      "686/686 [==============================] - 0s 552us/step - loss: 0.0083 - sparse_categorical_accuracy: 0.4067 - binary_accuracy: 0.9874 - val_loss: 0.0043 - val_sparse_categorical_accuracy: 0.4279 - val_binary_accuracy: 0.9932\n",
      "Epoch 26/30\n",
      "686/686 [==============================] - 0s 529us/step - loss: 0.0047 - sparse_categorical_accuracy: 0.4104 - binary_accuracy: 0.9932 - val_loss: 0.0033 - val_sparse_categorical_accuracy: 0.4279 - val_binary_accuracy: 0.9966\n",
      "Epoch 27/30\n",
      "686/686 [==============================] - 0s 567us/step - loss: 0.0076 - sparse_categorical_accuracy: 0.4219 - binary_accuracy: 0.9898 - val_loss: 0.0039 - val_sparse_categorical_accuracy: 0.4279 - val_binary_accuracy: 0.9946\n",
      "Epoch 28/30\n",
      "686/686 [==============================] - 0s 535us/step - loss: 0.0062 - sparse_categorical_accuracy: 0.4006 - binary_accuracy: 0.9915 - val_loss: 0.0035 - val_sparse_categorical_accuracy: 0.4279 - val_binary_accuracy: 0.9959\n",
      "Epoch 29/30\n",
      "686/686 [==============================] - 0s 554us/step - loss: 0.0065 - sparse_categorical_accuracy: 0.4057 - binary_accuracy: 0.9924 - val_loss: 0.0033 - val_sparse_categorical_accuracy: 0.4279 - val_binary_accuracy: 0.9966\n",
      "Epoch 30/30\n",
      "686/686 [==============================] - 0s 548us/step - loss: 0.0047 - sparse_categorical_accuracy: 0.4207 - binary_accuracy: 0.9936 - val_loss: 0.0044 - val_sparse_categorical_accuracy: 0.4279 - val_binary_accuracy: 0.9973\n"
     ]
    }
   ],
   "source": [
    "model_train(model, x_train,y_train, batch_size=5, epochs=30, callbacks=callbacks)"
   ]
  },
  {
   "cell_type": "code",
   "execution_count": 59,
   "id": "higher-suspect",
   "metadata": {},
   "outputs": [
    {
     "data": {
      "text/plain": [
       "[('input_3', '->', (4900, 200, 1), '- Numpy array'),\n",
       " ('lambda_4', '->', (4900, 200, 1), '- Numpy array'),\n",
       " ('max_pooling1d_4', '->', (4900, 40, 1), '- Numpy array'),\n",
       " ('lambda_5', '->', (4900, 40, 1), '- Numpy array'),\n",
       " ('conv1d_2', '->', (4900, 40, 4), '- Numpy array'),\n",
       " ('batch_normalization_2', '->', (4900, 40, 4), '- Numpy array'),\n",
       " ('re_lu_2', '->', (4900, 40, 4), '- Numpy array'),\n",
       " ('max_pooling1d_5', '->', (4900, 8, 4), '- Numpy array'),\n",
       " ('flatten_2', '->', (4900, 32), '- Numpy array'),\n",
       " ('dense_4', '->', (4900, 10), '- Numpy array'),\n",
       " ('dense_5', '->', (4900, 1), '- Numpy array')]"
      ]
     },
     "execution_count": 59,
     "metadata": {},
     "output_type": "execute_result"
    }
   ],
   "source": [
    "visualize_layer(model,x_train)"
   ]
  },
  {
   "cell_type": "code",
   "execution_count": 60,
   "id": "challenging-conjunction",
   "metadata": {},
   "outputs": [
    {
     "name": "stdout",
     "output_type": "stream",
     "text": [
      "Model: \"model_4\"\n",
      "_________________________________________________________________\n",
      "Layer (type)                 Output Shape              Param #   \n",
      "=================================================================\n",
      "input_3 (InputLayer)         [(None, 200, 1)]          0         \n",
      "_________________________________________________________________\n",
      "lambda_4 (Lambda)            (None, 200, 1)            0         \n",
      "_________________________________________________________________\n",
      "max_pooling1d_4 (MaxPooling1 (None, 40, 1)             0         \n",
      "_________________________________________________________________\n",
      "lambda_5 (Lambda)            (None, 40, 1)             0         \n",
      "_________________________________________________________________\n",
      "conv1d_2 (Conv1D)            (None, 40, 4)             16        \n",
      "_________________________________________________________________\n",
      "batch_normalization_2 (Batch (None, 40, 4)             16        \n",
      "_________________________________________________________________\n",
      "re_lu_2 (ReLU)               (None, 40, 4)             0         \n",
      "_________________________________________________________________\n",
      "max_pooling1d_5 (MaxPooling1 (None, 8, 4)              0         \n",
      "_________________________________________________________________\n",
      "flatten_2 (Flatten)          (None, 32)                0         \n",
      "_________________________________________________________________\n",
      "dense_4 (Dense)              (None, 10)                330       \n",
      "_________________________________________________________________\n",
      "dense_5 (Dense)              (None, 1)                 11        \n",
      "=================================================================\n",
      "Total params: 373\n",
      "Trainable params: 365\n",
      "Non-trainable params: 8\n",
      "_________________________________________________________________\n"
     ]
    }
   ],
   "source": [
    "model.summary()"
   ]
  },
  {
   "cell_type": "markdown",
   "id": "consecutive-postcard",
   "metadata": {},
   "source": [
    "We print out the first 15 values to see how accurate the model is:"
   ]
  },
  {
   "cell_type": "code",
   "execution_count": 69,
   "id": "chinese-antique",
   "metadata": {},
   "outputs": [
    {
     "name": "stdout",
     "output_type": "stream",
     "text": [
      "[1. 1. 0. 0. 0. 0. 1. 1. 1. 1. 0. 1. 0. 1. 0.]\n",
      "[1. 1. 0. 0. 0. 0. 1. 1. 1. 1. 0. 1. 0. 1. 0.]\n"
     ]
    }
   ],
   "source": [
    "r=np.round(model.predict(x_test[:15]))\n",
    "print(np.squeeze(r))\n",
    "print(y_test[:15])\n"
   ]
  },
  {
   "cell_type": "code",
   "execution_count": 72,
   "id": "acting-columbia",
   "metadata": {},
   "outputs": [
    {
     "name": "stdout",
     "output_type": "stream",
     "text": [
      "the test data size: 100\n",
      "18.2 ms ± 70.3 µs per loop (mean ± std. dev. of 7 runs, 100 loops each)\n"
     ]
    }
   ],
   "source": [
    "print('the test data size:',x_test.shape[0])\n",
    "%timeit prediction=model.predict(x_test)"
   ]
  },
  {
   "cell_type": "code",
   "execution_count": 71,
   "id": "expensive-cambodia",
   "metadata": {},
   "outputs": [
    {
     "name": "stdout",
     "output_type": "stream",
     "text": [
      "4/4 [==============================] - 0s 994us/step - loss: 0.0074 - sparse_categorical_accuracy: 0.4000 - binary_accuracy: 1.0000\n"
     ]
    },
    {
     "data": {
      "text/plain": [
       "[0.007359575480222702, 0.4000000059604645, 1.0]"
      ]
     },
     "execution_count": 71,
     "metadata": {},
     "output_type": "execute_result"
    }
   ],
   "source": [
    "model.evaluate(x_test,y_test)"
   ]
  },
  {
   "cell_type": "markdown",
   "id": "rocky-fantasy",
   "metadata": {},
   "source": [
    "As we can see, to predict 100 samples this models takes less than 20 ms with a very high accuracy."
   ]
  },
  {
   "cell_type": "code",
   "execution_count": null,
   "id": "blind-motor",
   "metadata": {},
   "outputs": [],
   "source": []
  }
 ],
 "metadata": {
  "kernelspec": {
   "display_name": "Python 3",
   "language": "python",
   "name": "python3"
  },
  "language_info": {
   "codemirror_mode": {
    "name": "ipython",
    "version": 3
   },
   "file_extension": ".py",
   "mimetype": "text/x-python",
   "name": "python",
   "nbconvert_exporter": "python",
   "pygments_lexer": "ipython3",
   "version": "3.8.5"
  }
 },
 "nbformat": 4,
 "nbformat_minor": 5
}
