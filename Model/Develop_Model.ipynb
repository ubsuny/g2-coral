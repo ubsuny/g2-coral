{
 "cells": [
  {
   "cell_type": "code",
   "execution_count": 1,
   "id": "worst-enclosure",
   "metadata": {},
   "outputs": [
    {
     "name": "stdout",
     "output_type": "stream",
     "text": [
      "Populating the interactive namespace from numpy and matplotlib\n"
     ]
    }
   ],
   "source": [
    "# import libraries we need\n",
    "%pylab inline\n",
    "import tensorflow as tf\n",
    "from tensorflow import keras\n",
    "import tensorflow_probability as tfp\n",
    "tfd = tfp.distributions\n",
    "\n",
    "import sys\n",
    "sys.path.append('./../py_programs/')\n",
    "from Simulator import *\n",
    "from MakeModel import *\n",
    "from keract import get_activations"
   ]
  },
  {
   "cell_type": "markdown",
   "id": "express-bedroom",
   "metadata": {},
   "source": [
    "### load data from files"
   ]
  },
  {
   "cell_type": "code",
   "execution_count": 2,
   "id": "restricted-uncertainty",
   "metadata": {},
   "outputs": [],
   "source": [
    "# load the data from files\n",
    "filenames = []\n",
    "x_ = []\n",
    "y_ = []\n",
    "\n",
    "# iterate over all files\n",
    "#filenames = ['./../simulation/data/laser'] + ['./../simulation/data/sps']\n",
    "filenames = ['./../simulation/data/halfhalf_rand/'+str(i) for i in range(50)]\n",
    "\n",
    "\n",
    "for filename in filenames: \n",
    "    data = load_data(filename=filename)\n",
    "    x_.append(data)\n",
    "    \n",
    "x_ = np.array(x_)"
   ]
  },
  {
   "cell_type": "code",
   "execution_count": 3,
   "id": "right-harbor",
   "metadata": {},
   "outputs": [],
   "source": [
    "# convert data into correct shape\n",
    "x_ = x_.reshape(x_.shape[0]*x_.shape[1],x_.shape[2],x_.shape[3])\n",
    "\n",
    "# get the ground truth\n",
    "threshold = 0.5\n",
    "y_ = get_truth(x_, thr=threshold)\n",
    "\n",
    "# we only need the g2signal for training\n",
    "x_ = x_[:,2,:]"
   ]
  },
  {
   "cell_type": "markdown",
   "id": "daily-jones",
   "metadata": {},
   "source": [
    "Now we've collected all the datasets. For training the model, we need to **shuffle** all data sets first\n"
   ]
  },
  {
   "cell_type": "code",
   "execution_count": 4,
   "id": "environmental-festival",
   "metadata": {},
   "outputs": [],
   "source": [
    "# shuffle\n",
    "i = np.random.permutation(len(x_))\n",
    "x_ = x_[i]\n",
    "y_ = y_[i]\n",
    "\n",
    "# reshape\n",
    "x_ = x_.reshape(x_.shape[0], x_.shape[1], 1)\n",
    "y_ = y_.reshape(y_.shape[0])\n",
    "\n",
    "# allocate\n",
    "x_train = x_[100:]\n",
    "y_train = y_[100:]\n",
    "x_test = x_[:100]\n",
    "y_test = y_[:100]"
   ]
  },
  {
   "cell_type": "code",
   "execution_count": 5,
   "id": "american-money",
   "metadata": {},
   "outputs": [
    {
     "data": {
      "text/plain": [
       "0.585"
      ]
     },
     "execution_count": 5,
     "metadata": {},
     "output_type": "execute_result"
    }
   ],
   "source": [
    "# check the sps rate (data sets considered as sps out of all data sets) \n",
    "y_[y_==1].shape[0]/y_.shape[0]"
   ]
  },
  {
   "cell_type": "markdown",
   "id": "absolute-hunter",
   "metadata": {},
   "source": [
    "---\n",
    "# CNN model"
   ]
  },
  {
   "cell_type": "code",
   "execution_count": 6,
   "id": "partial-japanese",
   "metadata": {},
   "outputs": [],
   "source": [
    "# create a model\n",
    "model = make_model(x_train.shape[1:])\n"
   ]
  },
  {
   "cell_type": "code",
   "execution_count": 7,
   "id": "indoor-playing",
   "metadata": {},
   "outputs": [
    {
     "data": {
      "text/plain": [
       "<bound method Model.compile of <tensorflow.python.keras.engine.functional.Functional object at 0x7fc64e0144f0>>"
      ]
     },
     "execution_count": 7,
     "metadata": {},
     "output_type": "execute_result"
    }
   ],
   "source": [
    "epochs = 30\n",
    "batch_size = 5\n",
    "\n",
    "callbacks = set_callback(save=True,name='model_3')\n",
    "model_compile(model)"
   ]
  },
  {
   "cell_type": "code",
   "execution_count": 8,
   "id": "heavy-great",
   "metadata": {},
   "outputs": [
    {
     "name": "stdout",
     "output_type": "stream",
     "text": [
      "Epoch 1/30\n",
      "686/686 [==============================] - 1s 856us/step - loss: 0.1215 - sparse_categorical_accuracy: 0.4134 - binary_accuracy: 0.8398 - val_loss: 0.0311 - val_sparse_categorical_accuracy: 0.4299 - val_binary_accuracy: 0.9830\n",
      "Epoch 2/30\n",
      "686/686 [==============================] - 0s 543us/step - loss: 0.0227 - sparse_categorical_accuracy: 0.4008 - binary_accuracy: 0.9830 - val_loss: 0.0156 - val_sparse_categorical_accuracy: 0.4299 - val_binary_accuracy: 0.9810\n",
      "Epoch 3/30\n",
      "686/686 [==============================] - 0s 544us/step - loss: 0.0145 - sparse_categorical_accuracy: 0.4194 - binary_accuracy: 0.9866 - val_loss: 0.0140 - val_sparse_categorical_accuracy: 0.4299 - val_binary_accuracy: 0.9803\n",
      "Epoch 4/30\n",
      "686/686 [==============================] - 0s 555us/step - loss: 0.0113 - sparse_categorical_accuracy: 0.4192 - binary_accuracy: 0.9884 - val_loss: 0.0108 - val_sparse_categorical_accuracy: 0.4299 - val_binary_accuracy: 0.9844\n",
      "Epoch 5/30\n",
      "686/686 [==============================] - 0s 541us/step - loss: 0.0075 - sparse_categorical_accuracy: 0.4111 - binary_accuracy: 0.9944 - val_loss: 0.0172 - val_sparse_categorical_accuracy: 0.4299 - val_binary_accuracy: 0.9789\n",
      "Epoch 6/30\n",
      "686/686 [==============================] - 0s 545us/step - loss: 0.0090 - sparse_categorical_accuracy: 0.4198 - binary_accuracy: 0.9900 - val_loss: 0.0160 - val_sparse_categorical_accuracy: 0.4299 - val_binary_accuracy: 0.9789\n",
      "Epoch 7/30\n",
      "686/686 [==============================] - 0s 550us/step - loss: 0.0073 - sparse_categorical_accuracy: 0.3974 - binary_accuracy: 0.9923 - val_loss: 0.0093 - val_sparse_categorical_accuracy: 0.4299 - val_binary_accuracy: 0.9884\n",
      "Epoch 8/30\n",
      "686/686 [==============================] - 0s 546us/step - loss: 0.0060 - sparse_categorical_accuracy: 0.3974 - binary_accuracy: 0.9915 - val_loss: 0.0162 - val_sparse_categorical_accuracy: 0.4299 - val_binary_accuracy: 0.9789\n",
      "Epoch 9/30\n",
      "686/686 [==============================] - 0s 553us/step - loss: 0.0063 - sparse_categorical_accuracy: 0.4130 - binary_accuracy: 0.9930 - val_loss: 0.0173 - val_sparse_categorical_accuracy: 0.4299 - val_binary_accuracy: 0.9782\n",
      "Epoch 10/30\n",
      "686/686 [==============================] - 0s 550us/step - loss: 0.0073 - sparse_categorical_accuracy: 0.4089 - binary_accuracy: 0.9888 - val_loss: 0.0074 - val_sparse_categorical_accuracy: 0.4299 - val_binary_accuracy: 0.9905\n",
      "Epoch 11/30\n",
      "686/686 [==============================] - 0s 545us/step - loss: 0.0060 - sparse_categorical_accuracy: 0.4145 - binary_accuracy: 0.9925 - val_loss: 0.0071 - val_sparse_categorical_accuracy: 0.4299 - val_binary_accuracy: 0.9912\n",
      "Epoch 12/30\n",
      "686/686 [==============================] - 0s 539us/step - loss: 0.0050 - sparse_categorical_accuracy: 0.4037 - binary_accuracy: 0.9927 - val_loss: 0.0085 - val_sparse_categorical_accuracy: 0.4299 - val_binary_accuracy: 0.9844\n",
      "Epoch 13/30\n",
      "686/686 [==============================] - 0s 536us/step - loss: 0.0063 - sparse_categorical_accuracy: 0.3849 - binary_accuracy: 0.9908 - val_loss: 0.0085 - val_sparse_categorical_accuracy: 0.4299 - val_binary_accuracy: 0.9891\n",
      "Epoch 14/30\n",
      "686/686 [==============================] - 0s 537us/step - loss: 0.0054 - sparse_categorical_accuracy: 0.4001 - binary_accuracy: 0.9929 - val_loss: 0.0086 - val_sparse_categorical_accuracy: 0.4299 - val_binary_accuracy: 0.9864\n",
      "Epoch 15/30\n",
      "686/686 [==============================] - 0s 557us/step - loss: 0.0053 - sparse_categorical_accuracy: 0.4258 - binary_accuracy: 0.9918 - val_loss: 0.0067 - val_sparse_categorical_accuracy: 0.4299 - val_binary_accuracy: 0.9912\n",
      "Epoch 16/30\n",
      "686/686 [==============================] - 0s 539us/step - loss: 0.0048 - sparse_categorical_accuracy: 0.4214 - binary_accuracy: 0.9944 - val_loss: 0.0066 - val_sparse_categorical_accuracy: 0.4299 - val_binary_accuracy: 0.9918\n",
      "Epoch 17/30\n",
      "686/686 [==============================] - 0s 544us/step - loss: 0.0053 - sparse_categorical_accuracy: 0.4149 - binary_accuracy: 0.9941 - val_loss: 0.0068 - val_sparse_categorical_accuracy: 0.4299 - val_binary_accuracy: 0.9912\n",
      "Epoch 18/30\n",
      "686/686 [==============================] - 0s 551us/step - loss: 0.0042 - sparse_categorical_accuracy: 0.4071 - binary_accuracy: 0.9959 - val_loss: 0.0072 - val_sparse_categorical_accuracy: 0.4299 - val_binary_accuracy: 0.9898\n",
      "Epoch 19/30\n",
      "686/686 [==============================] - 0s 552us/step - loss: 0.0047 - sparse_categorical_accuracy: 0.4199 - binary_accuracy: 0.9950 - val_loss: 0.0078 - val_sparse_categorical_accuracy: 0.4299 - val_binary_accuracy: 0.9898\n",
      "Epoch 20/30\n",
      "686/686 [==============================] - 0s 540us/step - loss: 0.0056 - sparse_categorical_accuracy: 0.3969 - binary_accuracy: 0.9919 - val_loss: 0.0065 - val_sparse_categorical_accuracy: 0.4299 - val_binary_accuracy: 0.9898\n",
      "Epoch 21/30\n",
      "686/686 [==============================] - 0s 554us/step - loss: 0.0069 - sparse_categorical_accuracy: 0.4018 - binary_accuracy: 0.9905 - val_loss: 0.0065 - val_sparse_categorical_accuracy: 0.4299 - val_binary_accuracy: 0.9905\n",
      "Epoch 22/30\n",
      "686/686 [==============================] - 0s 538us/step - loss: 0.0044 - sparse_categorical_accuracy: 0.4179 - binary_accuracy: 0.9932 - val_loss: 0.0061 - val_sparse_categorical_accuracy: 0.4299 - val_binary_accuracy: 0.9912\n",
      "Epoch 23/30\n",
      "686/686 [==============================] - 0s 551us/step - loss: 0.0045 - sparse_categorical_accuracy: 0.4122 - binary_accuracy: 0.9938 - val_loss: 0.0155 - val_sparse_categorical_accuracy: 0.4299 - val_binary_accuracy: 0.9803\n",
      "Epoch 24/30\n",
      "686/686 [==============================] - 0s 533us/step - loss: 0.0046 - sparse_categorical_accuracy: 0.4197 - binary_accuracy: 0.9946 - val_loss: 0.0073 - val_sparse_categorical_accuracy: 0.4299 - val_binary_accuracy: 0.9891\n",
      "Epoch 25/30\n",
      "686/686 [==============================] - 0s 544us/step - loss: 0.0061 - sparse_categorical_accuracy: 0.4052 - binary_accuracy: 0.9907 - val_loss: 0.0072 - val_sparse_categorical_accuracy: 0.4299 - val_binary_accuracy: 0.9898\n",
      "Epoch 26/30\n",
      "686/686 [==============================] - 0s 546us/step - loss: 0.0053 - sparse_categorical_accuracy: 0.4038 - binary_accuracy: 0.9919 - val_loss: 0.0077 - val_sparse_categorical_accuracy: 0.4299 - val_binary_accuracy: 0.9884\n",
      "Epoch 27/30\n",
      "686/686 [==============================] - 0s 573us/step - loss: 0.0048 - sparse_categorical_accuracy: 0.4105 - binary_accuracy: 0.9944 - val_loss: 0.0069 - val_sparse_categorical_accuracy: 0.4299 - val_binary_accuracy: 0.9912\n",
      "Epoch 28/30\n",
      "686/686 [==============================] - 0s 549us/step - loss: 0.0050 - sparse_categorical_accuracy: 0.4041 - binary_accuracy: 0.9933 - val_loss: 0.0064 - val_sparse_categorical_accuracy: 0.4299 - val_binary_accuracy: 0.9905\n",
      "Epoch 29/30\n",
      "686/686 [==============================] - 0s 550us/step - loss: 0.0044 - sparse_categorical_accuracy: 0.4151 - binary_accuracy: 0.9937 - val_loss: 0.0120 - val_sparse_categorical_accuracy: 0.4299 - val_binary_accuracy: 0.9823\n",
      "Epoch 30/30\n",
      "686/686 [==============================] - 0s 564us/step - loss: 0.0051 - sparse_categorical_accuracy: 0.4081 - binary_accuracy: 0.9928 - val_loss: 0.0122 - val_sparse_categorical_accuracy: 0.4299 - val_binary_accuracy: 0.9823\n"
     ]
    }
   ],
   "source": [
    "model_train(model, x_train,y_train, batch_size=5, epochs=30, callbacks=callbacks)"
   ]
  },
  {
   "cell_type": "code",
   "execution_count": null,
   "id": "reported-catch",
   "metadata": {},
   "outputs": [],
   "source": [
    "visualize_layer(model,x_train)"
   ]
  },
  {
   "cell_type": "code",
   "execution_count": 10,
   "id": "framed-custody",
   "metadata": {},
   "outputs": [
    {
     "name": "stdout",
     "output_type": "stream",
     "text": [
      "Model: \"model\"\n",
      "_________________________________________________________________\n",
      "Layer (type)                 Output Shape              Param #   \n",
      "=================================================================\n",
      "input_1 (InputLayer)         [(None, 200, 1)]          0         \n",
      "_________________________________________________________________\n",
      "lambda (Lambda)              (None, 200, 1)            0         \n",
      "_________________________________________________________________\n",
      "max_pooling1d (MaxPooling1D) (None, 40, 1)             0         \n",
      "_________________________________________________________________\n",
      "lambda_1 (Lambda)            (None, 40, 1)             0         \n",
      "_________________________________________________________________\n",
      "conv1d (Conv1D)              (None, 40, 4)             16        \n",
      "_________________________________________________________________\n",
      "batch_normalization (BatchNo (None, 40, 4)             16        \n",
      "_________________________________________________________________\n",
      "re_lu (ReLU)                 (None, 40, 4)             0         \n",
      "_________________________________________________________________\n",
      "max_pooling1d_1 (MaxPooling1 (None, 8, 4)              0         \n",
      "_________________________________________________________________\n",
      "flatten (Flatten)            (None, 32)                0         \n",
      "_________________________________________________________________\n",
      "dense (Dense)                (None, 10)                330       \n",
      "_________________________________________________________________\n",
      "dense_1 (Dense)              (None, 1)                 11        \n",
      "=================================================================\n",
      "Total params: 373\n",
      "Trainable params: 365\n",
      "Non-trainable params: 8\n",
      "_________________________________________________________________\n"
     ]
    }
   ],
   "source": [
    "model.summary()"
   ]
  },
  {
   "cell_type": "markdown",
   "id": "developed-ballet",
   "metadata": {},
   "source": [
    "We print out the first 15 values to see how accurate the model is:"
   ]
  },
  {
   "cell_type": "code",
   "execution_count": 11,
   "id": "hungry-monitor",
   "metadata": {},
   "outputs": [
    {
     "name": "stdout",
     "output_type": "stream",
     "text": [
      "[0. 1. 1. 0. 0. 1. 1. 0. 0. 1. 1. 1. 0. 1. 1.]\n",
      "[0. 1. 1. 0. 0. 1. 1. 0. 0. 1. 1. 1. 0. 0. 1.]\n"
     ]
    }
   ],
   "source": [
    "r=np.round(model.predict(x_test[:15]))\n",
    "print(np.squeeze(r))\n",
    "print(y_test[:15])\n"
   ]
  },
  {
   "cell_type": "code",
   "execution_count": 12,
   "id": "first-corrections",
   "metadata": {},
   "outputs": [
    {
     "name": "stdout",
     "output_type": "stream",
     "text": [
      "the test data size: 100\n",
      "18.4 ms ± 72.8 µs per loop (mean ± std. dev. of 7 runs, 100 loops each)\n"
     ]
    }
   ],
   "source": [
    "print('the test data size:',x_test.shape[0])\n",
    "%timeit prediction=model.predict(x_test)"
   ]
  },
  {
   "cell_type": "code",
   "execution_count": 13,
   "id": "whole-tonight",
   "metadata": {},
   "outputs": [
    {
     "name": "stdout",
     "output_type": "stream",
     "text": [
      "4/4 [==============================] - 0s 1ms/step - loss: 0.0103 - sparse_categorical_accuracy: 0.4500 - binary_accuracy: 0.9900\n"
     ]
    },
    {
     "data": {
      "text/plain": [
       "[0.01029666792601347, 0.44999998807907104, 0.9900000095367432]"
      ]
     },
     "execution_count": 13,
     "metadata": {},
     "output_type": "execute_result"
    }
   ],
   "source": [
    "model.evaluate(x_test,y_test)"
   ]
  },
  {
   "cell_type": "markdown",
   "id": "fiscal-bridges",
   "metadata": {},
   "source": [
    "As we can see, to predict 100 samples this models takes less than 20 ms with a very high accuracy."
   ]
  },
  {
   "cell_type": "code",
   "execution_count": null,
   "id": "aggressive-champagne",
   "metadata": {},
   "outputs": [],
   "source": []
  }
 ],
 "metadata": {
  "kernelspec": {
   "display_name": "Python 3",
   "language": "python",
   "name": "python3"
  },
  "language_info": {
   "codemirror_mode": {
    "name": "ipython",
    "version": 3
   },
   "file_extension": ".py",
   "mimetype": "text/x-python",
   "name": "python",
   "nbconvert_exporter": "python",
   "pygments_lexer": "ipython3",
   "version": "3.8.5"
  }
 },
 "nbformat": 4,
 "nbformat_minor": 5
}
